{
 "cells": [
  {
   "cell_type": "markdown",
   "metadata": {},
   "source": [
    "# (Dataset Exploration Title)\n",
    "## by (your name here)\n",
    "\n",
    "## Preliminary Wrangling\n",
    "\n",
    "> Briefly introduce your dataset here."
   ]
  },
  {
   "cell_type": "code",
   "execution_count": 1,
   "metadata": {},
   "outputs": [],
   "source": [
    "## import all packages and set plots to be embedded inline\n",
    "import numpy as np\n",
    "import pandas as pd\n",
    "import matplotlib.pyplot as plt\n",
    "import seaborn as sns\n",
    "import glob\n",
    "%matplotlib inline\n",
    "from scipy.optimize import curve_fit\n",
    "import urllib\n",
    "import time"
   ]
  },
  {
   "cell_type": "code",
   "execution_count": 2,
   "metadata": {},
   "outputs": [],
   "source": [
    "pd.options.mode.chained_assignment = None  # default='warn'"
   ]
  },
  {
   "cell_type": "markdown",
   "metadata": {},
   "source": [
    "> Load in your dataset and describe its properties through the questions below.\n",
    "Try and motivate your exploration goals through this section."
   ]
  },
  {
   "cell_type": "markdown",
   "metadata": {},
   "source": [
    "# Data Gathering"
   ]
  },
  {
   "cell_type": "code",
   "execution_count": 3,
   "metadata": {},
   "outputs": [],
   "source": [
    "## csv files read in\n",
    "path = r'csse_covid_19_data/csse_covid_19_daily_reports'\n",
    "all_files = glob.glob(path + \"/*.csv\")\n",
    "## concat into one file\n",
    "li = []\n",
    "\n",
    "for filename in all_files:\n",
    "    df = pd.read_csv(filename, header=0)\n",
    "    \"\"\"if there is no new confirms on that day, 'Last Update' will stay at yesterday,\n",
    "    this will have a misleading result on the plot when we draw accumulated confirmed cases by date,\n",
    "    therefor we change the 'Last Update' to as same as the file name, which is the calendar date\n",
    "    \"\"\"\n",
    "    df['Last Update']= filename[-14:-4]\n",
    "    li.append(df)\n",
    "\n",
    "frame = pd.concat(li, axis=0, ignore_index=True, sort= True)"
   ]
  },
  {
   "cell_type": "code",
   "execution_count": 4,
   "metadata": {},
   "outputs": [
    {
     "data": {
      "text/html": [
       "<div>\n",
       "<style scoped>\n",
       "    .dataframe tbody tr th:only-of-type {\n",
       "        vertical-align: middle;\n",
       "    }\n",
       "\n",
       "    .dataframe tbody tr th {\n",
       "        vertical-align: top;\n",
       "    }\n",
       "\n",
       "    .dataframe thead th {\n",
       "        text-align: right;\n",
       "    }\n",
       "</style>\n",
       "<table border=\"1\" class=\"dataframe\">\n",
       "  <thead>\n",
       "    <tr style=\"text-align: right;\">\n",
       "      <th></th>\n",
       "      <th>Confirmed</th>\n",
       "      <th>Country/Region</th>\n",
       "      <th>Deaths</th>\n",
       "      <th>Last Update</th>\n",
       "      <th>Latitude</th>\n",
       "      <th>Longitude</th>\n",
       "      <th>Province/State</th>\n",
       "      <th>Recovered</th>\n",
       "    </tr>\n",
       "  </thead>\n",
       "  <tbody>\n",
       "    <tr>\n",
       "      <td>0</td>\n",
       "      <td>1.0</td>\n",
       "      <td>Mainland China</td>\n",
       "      <td>NaN</td>\n",
       "      <td>01-22-2020</td>\n",
       "      <td>NaN</td>\n",
       "      <td>NaN</td>\n",
       "      <td>Anhui</td>\n",
       "      <td>NaN</td>\n",
       "    </tr>\n",
       "    <tr>\n",
       "      <td>1</td>\n",
       "      <td>14.0</td>\n",
       "      <td>Mainland China</td>\n",
       "      <td>NaN</td>\n",
       "      <td>01-22-2020</td>\n",
       "      <td>NaN</td>\n",
       "      <td>NaN</td>\n",
       "      <td>Beijing</td>\n",
       "      <td>NaN</td>\n",
       "    </tr>\n",
       "    <tr>\n",
       "      <td>2</td>\n",
       "      <td>6.0</td>\n",
       "      <td>Mainland China</td>\n",
       "      <td>NaN</td>\n",
       "      <td>01-22-2020</td>\n",
       "      <td>NaN</td>\n",
       "      <td>NaN</td>\n",
       "      <td>Chongqing</td>\n",
       "      <td>NaN</td>\n",
       "    </tr>\n",
       "    <tr>\n",
       "      <td>3</td>\n",
       "      <td>1.0</td>\n",
       "      <td>Mainland China</td>\n",
       "      <td>NaN</td>\n",
       "      <td>01-22-2020</td>\n",
       "      <td>NaN</td>\n",
       "      <td>NaN</td>\n",
       "      <td>Fujian</td>\n",
       "      <td>NaN</td>\n",
       "    </tr>\n",
       "    <tr>\n",
       "      <td>4</td>\n",
       "      <td>NaN</td>\n",
       "      <td>Mainland China</td>\n",
       "      <td>NaN</td>\n",
       "      <td>01-22-2020</td>\n",
       "      <td>NaN</td>\n",
       "      <td>NaN</td>\n",
       "      <td>Gansu</td>\n",
       "      <td>NaN</td>\n",
       "    </tr>\n",
       "    <tr>\n",
       "      <td>...</td>\n",
       "      <td>...</td>\n",
       "      <td>...</td>\n",
       "      <td>...</td>\n",
       "      <td>...</td>\n",
       "      <td>...</td>\n",
       "      <td>...</td>\n",
       "      <td>...</td>\n",
       "      <td>...</td>\n",
       "    </tr>\n",
       "    <tr>\n",
       "      <td>5624</td>\n",
       "      <td>1.0</td>\n",
       "      <td>US</td>\n",
       "      <td>0.0</td>\n",
       "      <td>03-14-2020</td>\n",
       "      <td>18.3358</td>\n",
       "      <td>-64.8963</td>\n",
       "      <td>Virgin Islands, U.S.</td>\n",
       "      <td>0.0</td>\n",
       "    </tr>\n",
       "    <tr>\n",
       "      <td>5625</td>\n",
       "      <td>1.0</td>\n",
       "      <td>United Kingdom</td>\n",
       "      <td>0.0</td>\n",
       "      <td>03-14-2020</td>\n",
       "      <td>36.1408</td>\n",
       "      <td>-5.3536</td>\n",
       "      <td>Gibraltar</td>\n",
       "      <td>1.0</td>\n",
       "    </tr>\n",
       "    <tr>\n",
       "      <td>5626</td>\n",
       "      <td>0.0</td>\n",
       "      <td>Australia</td>\n",
       "      <td>0.0</td>\n",
       "      <td>03-14-2020</td>\n",
       "      <td>35.4437</td>\n",
       "      <td>139.6380</td>\n",
       "      <td>From Diamond Princess</td>\n",
       "      <td>0.0</td>\n",
       "    </tr>\n",
       "    <tr>\n",
       "      <td>5627</td>\n",
       "      <td>0.0</td>\n",
       "      <td>US</td>\n",
       "      <td>0.0</td>\n",
       "      <td>03-14-2020</td>\n",
       "      <td>38.4912</td>\n",
       "      <td>-80.9545</td>\n",
       "      <td>West Virginia</td>\n",
       "      <td>0.0</td>\n",
       "    </tr>\n",
       "    <tr>\n",
       "      <td>5628</td>\n",
       "      <td>0.0</td>\n",
       "      <td>occupied Palestinian territory</td>\n",
       "      <td>0.0</td>\n",
       "      <td>03-14-2020</td>\n",
       "      <td>31.9522</td>\n",
       "      <td>35.2332</td>\n",
       "      <td>NaN</td>\n",
       "      <td>0.0</td>\n",
       "    </tr>\n",
       "  </tbody>\n",
       "</table>\n",
       "<p>5629 rows × 8 columns</p>\n",
       "</div>"
      ],
      "text/plain": [
       "      Confirmed                  Country/Region  Deaths Last Update  Latitude  \\\n",
       "0           1.0                  Mainland China     NaN  01-22-2020       NaN   \n",
       "1          14.0                  Mainland China     NaN  01-22-2020       NaN   \n",
       "2           6.0                  Mainland China     NaN  01-22-2020       NaN   \n",
       "3           1.0                  Mainland China     NaN  01-22-2020       NaN   \n",
       "4           NaN                  Mainland China     NaN  01-22-2020       NaN   \n",
       "...         ...                             ...     ...         ...       ...   \n",
       "5624        1.0                              US     0.0  03-14-2020   18.3358   \n",
       "5625        1.0                  United Kingdom     0.0  03-14-2020   36.1408   \n",
       "5626        0.0                       Australia     0.0  03-14-2020   35.4437   \n",
       "5627        0.0                              US     0.0  03-14-2020   38.4912   \n",
       "5628        0.0  occupied Palestinian territory     0.0  03-14-2020   31.9522   \n",
       "\n",
       "      Longitude         Province/State  Recovered  \n",
       "0           NaN                  Anhui        NaN  \n",
       "1           NaN                Beijing        NaN  \n",
       "2           NaN              Chongqing        NaN  \n",
       "3           NaN                 Fujian        NaN  \n",
       "4           NaN                  Gansu        NaN  \n",
       "...         ...                    ...        ...  \n",
       "5624   -64.8963   Virgin Islands, U.S.        0.0  \n",
       "5625    -5.3536              Gibraltar        1.0  \n",
       "5626   139.6380  From Diamond Princess        0.0  \n",
       "5627   -80.9545          West Virginia        0.0  \n",
       "5628    35.2332                    NaN        0.0  \n",
       "\n",
       "[5629 rows x 8 columns]"
      ]
     },
     "execution_count": 4,
     "metadata": {},
     "output_type": "execute_result"
    }
   ],
   "source": [
    "frame"
   ]
  },
  {
   "cell_type": "markdown",
   "metadata": {},
   "source": [
    "# Data Cleaning"
   ]
  },
  {
   "cell_type": "code",
   "execution_count": 5,
   "metadata": {},
   "outputs": [],
   "source": [
    "## rename two columns with non-sensitive notation\n",
    "frame.rename(columns ={'Country/Region':'Country_Region','Province/State':'Province_State',\n",
    "                       'Last Update':'Last_Update'}, inplace= True)"
   ]
  },
  {
   "cell_type": "code",
   "execution_count": 6,
   "metadata": {},
   "outputs": [],
   "source": [
    "## filter out US and China\n",
    "df = frame.query('Country_Region == \"US\" or Country_Region == \"China\" or Country_Region == \"Mainland China\"')\n",
    "## replace \"Mainland China\" with \"China\"\n",
    "df['Country_Region'].replace('Mainland China','China',inplace= True)"
   ]
  },
  {
   "cell_type": "code",
   "execution_count": 7,
   "metadata": {},
   "outputs": [
    {
     "data": {
      "text/plain": [
       "China    1649\n",
       "US       1162\n",
       "Name: Country_Region, dtype: int64"
      ]
     },
     "execution_count": 7,
     "metadata": {},
     "output_type": "execute_result"
    }
   ],
   "source": [
    "## test\n",
    "df['Country_Region'].value_counts()"
   ]
  },
  {
   "cell_type": "code",
   "execution_count": 8,
   "metadata": {},
   "outputs": [
    {
     "data": {
      "text/plain": [
       "False"
      ]
     },
     "execution_count": 8,
     "metadata": {},
     "output_type": "execute_result"
    }
   ],
   "source": [
    "## check duplicates\n",
    "df.duplicated().any()"
   ]
  },
  {
   "cell_type": "code",
   "execution_count": 9,
   "metadata": {},
   "outputs": [],
   "source": [
    "## rerange columns\n",
    "df = df[['Province_State','Country_Region','Last_Update','Confirmed','Deaths','Recovered','Latitude','Longitude']]"
   ]
  },
  {
   "cell_type": "code",
   "execution_count": 10,
   "metadata": {},
   "outputs": [
    {
     "name": "stdout",
     "output_type": "stream",
     "text": [
      "<class 'pandas.core.frame.DataFrame'>\n",
      "Int64Index: 2811 entries, 0 to 5627\n",
      "Data columns (total 8 columns):\n",
      "Province_State    2811 non-null object\n",
      "Country_Region    2811 non-null object\n",
      "Last_Update       2811 non-null object\n",
      "Confirmed         2799 non-null float64\n",
      "Deaths            2529 non-null float64\n",
      "Recovered         2568 non-null float64\n",
      "Latitude          1234 non-null float64\n",
      "Longitude         1234 non-null float64\n",
      "dtypes: float64(5), object(3)\n",
      "memory usage: 197.6+ KB\n"
     ]
    }
   ],
   "source": [
    "## test\n",
    "df.info()"
   ]
  },
  {
   "cell_type": "code",
   "execution_count": 11,
   "metadata": {},
   "outputs": [
    {
     "data": {
      "text/html": [
       "<div>\n",
       "<style scoped>\n",
       "    .dataframe tbody tr th:only-of-type {\n",
       "        vertical-align: middle;\n",
       "    }\n",
       "\n",
       "    .dataframe tbody tr th {\n",
       "        vertical-align: top;\n",
       "    }\n",
       "\n",
       "    .dataframe thead th {\n",
       "        text-align: right;\n",
       "    }\n",
       "</style>\n",
       "<table border=\"1\" class=\"dataframe\">\n",
       "  <thead>\n",
       "    <tr style=\"text-align: right;\">\n",
       "      <th></th>\n",
       "      <th>Province_State</th>\n",
       "      <th>Country_Region</th>\n",
       "      <th>Last_Update</th>\n",
       "      <th>Confirmed</th>\n",
       "      <th>Deaths</th>\n",
       "      <th>Recovered</th>\n",
       "      <th>Latitude</th>\n",
       "      <th>Longitude</th>\n",
       "    </tr>\n",
       "  </thead>\n",
       "  <tbody>\n",
       "    <tr>\n",
       "      <td>0</td>\n",
       "      <td>Anhui</td>\n",
       "      <td>China</td>\n",
       "      <td>01-22-2020</td>\n",
       "      <td>1.0</td>\n",
       "      <td>0.0</td>\n",
       "      <td>0.0</td>\n",
       "      <td>NaN</td>\n",
       "      <td>NaN</td>\n",
       "    </tr>\n",
       "    <tr>\n",
       "      <td>1</td>\n",
       "      <td>Beijing</td>\n",
       "      <td>China</td>\n",
       "      <td>01-22-2020</td>\n",
       "      <td>14.0</td>\n",
       "      <td>0.0</td>\n",
       "      <td>0.0</td>\n",
       "      <td>NaN</td>\n",
       "      <td>NaN</td>\n",
       "    </tr>\n",
       "    <tr>\n",
       "      <td>2</td>\n",
       "      <td>Chongqing</td>\n",
       "      <td>China</td>\n",
       "      <td>01-22-2020</td>\n",
       "      <td>6.0</td>\n",
       "      <td>0.0</td>\n",
       "      <td>0.0</td>\n",
       "      <td>NaN</td>\n",
       "      <td>NaN</td>\n",
       "    </tr>\n",
       "    <tr>\n",
       "      <td>3</td>\n",
       "      <td>Fujian</td>\n",
       "      <td>China</td>\n",
       "      <td>01-22-2020</td>\n",
       "      <td>1.0</td>\n",
       "      <td>0.0</td>\n",
       "      <td>0.0</td>\n",
       "      <td>NaN</td>\n",
       "      <td>NaN</td>\n",
       "    </tr>\n",
       "    <tr>\n",
       "      <td>4</td>\n",
       "      <td>Gansu</td>\n",
       "      <td>China</td>\n",
       "      <td>01-22-2020</td>\n",
       "      <td>0.0</td>\n",
       "      <td>0.0</td>\n",
       "      <td>0.0</td>\n",
       "      <td>NaN</td>\n",
       "      <td>NaN</td>\n",
       "    </tr>\n",
       "    <tr>\n",
       "      <td>...</td>\n",
       "      <td>...</td>\n",
       "      <td>...</td>\n",
       "      <td>...</td>\n",
       "      <td>...</td>\n",
       "      <td>...</td>\n",
       "      <td>...</td>\n",
       "      <td>...</td>\n",
       "      <td>...</td>\n",
       "    </tr>\n",
       "    <tr>\n",
       "      <td>5589</td>\n",
       "      <td>Wyoming</td>\n",
       "      <td>US</td>\n",
       "      <td>03-14-2020</td>\n",
       "      <td>2.0</td>\n",
       "      <td>0.0</td>\n",
       "      <td>0.0</td>\n",
       "      <td>42.7560</td>\n",
       "      <td>-107.3025</td>\n",
       "    </tr>\n",
       "    <tr>\n",
       "      <td>5599</td>\n",
       "      <td>Tibet</td>\n",
       "      <td>China</td>\n",
       "      <td>03-14-2020</td>\n",
       "      <td>1.0</td>\n",
       "      <td>0.0</td>\n",
       "      <td>1.0</td>\n",
       "      <td>31.6927</td>\n",
       "      <td>88.0924</td>\n",
       "    </tr>\n",
       "    <tr>\n",
       "      <td>5623</td>\n",
       "      <td>North Dakota</td>\n",
       "      <td>US</td>\n",
       "      <td>03-14-2020</td>\n",
       "      <td>1.0</td>\n",
       "      <td>0.0</td>\n",
       "      <td>0.0</td>\n",
       "      <td>47.5289</td>\n",
       "      <td>-99.7840</td>\n",
       "    </tr>\n",
       "    <tr>\n",
       "      <td>5624</td>\n",
       "      <td>Virgin Islands, U.S.</td>\n",
       "      <td>US</td>\n",
       "      <td>03-14-2020</td>\n",
       "      <td>1.0</td>\n",
       "      <td>0.0</td>\n",
       "      <td>0.0</td>\n",
       "      <td>18.3358</td>\n",
       "      <td>-64.8963</td>\n",
       "    </tr>\n",
       "    <tr>\n",
       "      <td>5627</td>\n",
       "      <td>West Virginia</td>\n",
       "      <td>US</td>\n",
       "      <td>03-14-2020</td>\n",
       "      <td>0.0</td>\n",
       "      <td>0.0</td>\n",
       "      <td>0.0</td>\n",
       "      <td>38.4912</td>\n",
       "      <td>-80.9545</td>\n",
       "    </tr>\n",
       "  </tbody>\n",
       "</table>\n",
       "<p>2811 rows × 8 columns</p>\n",
       "</div>"
      ],
      "text/plain": [
       "            Province_State Country_Region Last_Update  Confirmed  Deaths  \\\n",
       "0                    Anhui          China  01-22-2020        1.0     0.0   \n",
       "1                  Beijing          China  01-22-2020       14.0     0.0   \n",
       "2                Chongqing          China  01-22-2020        6.0     0.0   \n",
       "3                   Fujian          China  01-22-2020        1.0     0.0   \n",
       "4                    Gansu          China  01-22-2020        0.0     0.0   \n",
       "...                    ...            ...         ...        ...     ...   \n",
       "5589               Wyoming             US  03-14-2020        2.0     0.0   \n",
       "5599                 Tibet          China  03-14-2020        1.0     0.0   \n",
       "5623          North Dakota             US  03-14-2020        1.0     0.0   \n",
       "5624  Virgin Islands, U.S.             US  03-14-2020        1.0     0.0   \n",
       "5627         West Virginia             US  03-14-2020        0.0     0.0   \n",
       "\n",
       "      Recovered  Latitude  Longitude  \n",
       "0           0.0       NaN        NaN  \n",
       "1           0.0       NaN        NaN  \n",
       "2           0.0       NaN        NaN  \n",
       "3           0.0       NaN        NaN  \n",
       "4           0.0       NaN        NaN  \n",
       "...         ...       ...        ...  \n",
       "5589        0.0   42.7560  -107.3025  \n",
       "5599        1.0   31.6927    88.0924  \n",
       "5623        0.0   47.5289   -99.7840  \n",
       "5624        0.0   18.3358   -64.8963  \n",
       "5627        0.0   38.4912   -80.9545  \n",
       "\n",
       "[2811 rows x 8 columns]"
      ]
     },
     "execution_count": 11,
     "metadata": {},
     "output_type": "execute_result"
    }
   ],
   "source": [
    "## fill NaN with 0 in 'Confirmed','Deaths','Recovered'\n",
    "df[['Confirmed','Deaths','Recovered']]= df[['Confirmed','Deaths','Recovered']].fillna(0)\n",
    "df"
   ]
  },
  {
   "cell_type": "code",
   "execution_count": 12,
   "metadata": {},
   "outputs": [],
   "source": [
    "## change datatype\n",
    "integer = ['Confirmed','Deaths','Recovered']\n",
    "datetime = ['Last_Update']\n",
    "datatypes = ['int','datetime64']\n",
    "columns = [integer,datetime]\n",
    "for column,datatype in zip(columns,datatypes):\n",
    "    df[column]= df[column].astype(datatype)"
   ]
  },
  {
   "cell_type": "code",
   "execution_count": 13,
   "metadata": {},
   "outputs": [],
   "source": [
    "## trim down HH-MM-SS\n",
    "df['Last_Update'] = df['Last_Update'].values.astype('<M8[D]')"
   ]
  },
  {
   "cell_type": "code",
   "execution_count": 14,
   "metadata": {},
   "outputs": [],
   "source": [
    "## reset index\n",
    "df.reset_index(inplace= True)\n",
    "## drop old index\n",
    "df.drop(['index'],axis =1,inplace= True)"
   ]
  },
  {
   "cell_type": "code",
   "execution_count": 15,
   "metadata": {},
   "outputs": [
    {
     "name": "stdout",
     "output_type": "stream",
     "text": [
      "<class 'pandas.core.frame.DataFrame'>\n",
      "RangeIndex: 2811 entries, 0 to 2810\n",
      "Data columns (total 8 columns):\n",
      "Province_State    2811 non-null object\n",
      "Country_Region    2811 non-null object\n",
      "Last_Update       2811 non-null datetime64[ns]\n",
      "Confirmed         2811 non-null int32\n",
      "Deaths            2811 non-null int32\n",
      "Recovered         2811 non-null int32\n",
      "Latitude          1234 non-null float64\n",
      "Longitude         1234 non-null float64\n",
      "dtypes: datetime64[ns](1), float64(2), int32(3), object(2)\n",
      "memory usage: 142.9+ KB\n"
     ]
    }
   ],
   "source": [
    "df.info()"
   ]
  },
  {
   "cell_type": "code",
   "execution_count": 16,
   "metadata": {},
   "outputs": [],
   "source": [
    "## Add fatality rate and recovery rate\n",
    "df['fatality_rate'] = df['Deaths']/df['Confirmed']\n",
    "df['recovery_rate'] = df['Recovered']/df['Confirmed']"
   ]
  },
  {
   "cell_type": "code",
   "execution_count": 17,
   "metadata": {},
   "outputs": [
    {
     "data": {
      "text/html": [
       "<div>\n",
       "<style scoped>\n",
       "    .dataframe tbody tr th:only-of-type {\n",
       "        vertical-align: middle;\n",
       "    }\n",
       "\n",
       "    .dataframe tbody tr th {\n",
       "        vertical-align: top;\n",
       "    }\n",
       "\n",
       "    .dataframe thead th {\n",
       "        text-align: right;\n",
       "    }\n",
       "</style>\n",
       "<table border=\"1\" class=\"dataframe\">\n",
       "  <thead>\n",
       "    <tr style=\"text-align: right;\">\n",
       "      <th></th>\n",
       "      <th>Province_State</th>\n",
       "      <th>Country_Region</th>\n",
       "      <th>Last_Update</th>\n",
       "      <th>Confirmed</th>\n",
       "      <th>Deaths</th>\n",
       "      <th>Recovered</th>\n",
       "      <th>Latitude</th>\n",
       "      <th>Longitude</th>\n",
       "      <th>fatality_rate</th>\n",
       "      <th>recovery_rate</th>\n",
       "    </tr>\n",
       "  </thead>\n",
       "  <tbody>\n",
       "    <tr>\n",
       "      <td>0</td>\n",
       "      <td>Anhui</td>\n",
       "      <td>China</td>\n",
       "      <td>2020-01-22</td>\n",
       "      <td>1</td>\n",
       "      <td>0</td>\n",
       "      <td>0</td>\n",
       "      <td>NaN</td>\n",
       "      <td>NaN</td>\n",
       "      <td>0.0</td>\n",
       "      <td>0.0</td>\n",
       "    </tr>\n",
       "    <tr>\n",
       "      <td>1</td>\n",
       "      <td>Beijing</td>\n",
       "      <td>China</td>\n",
       "      <td>2020-01-22</td>\n",
       "      <td>14</td>\n",
       "      <td>0</td>\n",
       "      <td>0</td>\n",
       "      <td>NaN</td>\n",
       "      <td>NaN</td>\n",
       "      <td>0.0</td>\n",
       "      <td>0.0</td>\n",
       "    </tr>\n",
       "    <tr>\n",
       "      <td>2</td>\n",
       "      <td>Chongqing</td>\n",
       "      <td>China</td>\n",
       "      <td>2020-01-22</td>\n",
       "      <td>6</td>\n",
       "      <td>0</td>\n",
       "      <td>0</td>\n",
       "      <td>NaN</td>\n",
       "      <td>NaN</td>\n",
       "      <td>0.0</td>\n",
       "      <td>0.0</td>\n",
       "    </tr>\n",
       "    <tr>\n",
       "      <td>3</td>\n",
       "      <td>Fujian</td>\n",
       "      <td>China</td>\n",
       "      <td>2020-01-22</td>\n",
       "      <td>1</td>\n",
       "      <td>0</td>\n",
       "      <td>0</td>\n",
       "      <td>NaN</td>\n",
       "      <td>NaN</td>\n",
       "      <td>0.0</td>\n",
       "      <td>0.0</td>\n",
       "    </tr>\n",
       "    <tr>\n",
       "      <td>4</td>\n",
       "      <td>Gansu</td>\n",
       "      <td>China</td>\n",
       "      <td>2020-01-22</td>\n",
       "      <td>0</td>\n",
       "      <td>0</td>\n",
       "      <td>0</td>\n",
       "      <td>NaN</td>\n",
       "      <td>NaN</td>\n",
       "      <td>NaN</td>\n",
       "      <td>NaN</td>\n",
       "    </tr>\n",
       "  </tbody>\n",
       "</table>\n",
       "</div>"
      ],
      "text/plain": [
       "  Province_State Country_Region Last_Update  Confirmed  Deaths  Recovered  \\\n",
       "0          Anhui          China  2020-01-22          1       0          0   \n",
       "1        Beijing          China  2020-01-22         14       0          0   \n",
       "2      Chongqing          China  2020-01-22          6       0          0   \n",
       "3         Fujian          China  2020-01-22          1       0          0   \n",
       "4          Gansu          China  2020-01-22          0       0          0   \n",
       "\n",
       "   Latitude  Longitude  fatality_rate  recovery_rate  \n",
       "0       NaN        NaN            0.0            0.0  \n",
       "1       NaN        NaN            0.0            0.0  \n",
       "2       NaN        NaN            0.0            0.0  \n",
       "3       NaN        NaN            0.0            0.0  \n",
       "4       NaN        NaN            NaN            NaN  "
      ]
     },
     "execution_count": 17,
     "metadata": {},
     "output_type": "execute_result"
    }
   ],
   "source": [
    "## test\n",
    "df.head()"
   ]
  },
  {
   "cell_type": "code",
   "execution_count": 18,
   "metadata": {},
   "outputs": [
    {
     "name": "stdout",
     "output_type": "stream",
     "text": [
      "1649 1162\n"
     ]
    }
   ],
   "source": [
    "print(df.query('Country_Region == \"China\"').shape[0],df.query('Country_Region == \"US\"').shape[0])"
   ]
  },
  {
   "cell_type": "code",
   "execution_count": 19,
   "metadata": {},
   "outputs": [],
   "source": [
    "## break data by contries for future analyzation\n",
    "usdf = df.query('Country_Region == \"US\"')\n",
    "cndf = df.query('Country_Region == \"China\"')"
   ]
  },
  {
   "cell_type": "markdown",
   "metadata": {},
   "source": [
    "### What is the structure of your dataset?\n",
    "\n",
    "> There are 28114 records in totoal, 1649 records in China and 1162 records in US. Information is recorded from 2020 Jan 22nd until 2020 Mar 14th.\n",
    "\n",
    "### What is/are the main feature(s) of interest in your dataset?\n",
    "\n",
    "> The relationship among Confirmed,Deaths,Recovered with time goes on in two different countries.\n",
    "\n",
    "### What features in the dataset do you think will help support your investigation into your feature(s) of interest?\n",
    "\n",
    "> Confirmed,Deaths,Recovered are key metrics. With some engineering will result different ratios."
   ]
  },
  {
   "cell_type": "markdown",
   "metadata": {},
   "source": [
    "## Univariate Exploration\n",
    "\n",
    "> In this section, investigate distributions of individual variables. If\n",
    "you see unusual points or outliers, take a deeper look to clean things up\n",
    "and prepare yourself to look at relationships between variables.\n",
    "\n"
   ]
  },
  {
   "cell_type": "code",
   "execution_count": 20,
   "metadata": {},
   "outputs": [
    {
     "data": {
      "text/html": [
       "<div>\n",
       "<style scoped>\n",
       "    .dataframe tbody tr th:only-of-type {\n",
       "        vertical-align: middle;\n",
       "    }\n",
       "\n",
       "    .dataframe tbody tr th {\n",
       "        vertical-align: top;\n",
       "    }\n",
       "\n",
       "    .dataframe thead th {\n",
       "        text-align: right;\n",
       "    }\n",
       "</style>\n",
       "<table border=\"1\" class=\"dataframe\">\n",
       "  <thead>\n",
       "    <tr style=\"text-align: right;\">\n",
       "      <th></th>\n",
       "      <th>Confirmed</th>\n",
       "      <th>Deaths</th>\n",
       "      <th>Recovered</th>\n",
       "      <th>Latitude</th>\n",
       "      <th>Longitude</th>\n",
       "      <th>fatality_rate</th>\n",
       "      <th>recovery_rate</th>\n",
       "    </tr>\n",
       "  </thead>\n",
       "  <tbody>\n",
       "    <tr>\n",
       "      <td>count</td>\n",
       "      <td>1162.000000</td>\n",
       "      <td>1162.000000</td>\n",
       "      <td>1162.000000</td>\n",
       "      <td>788.000000</td>\n",
       "      <td>788.000000</td>\n",
       "      <td>1088.000000</td>\n",
       "      <td>1088.000000</td>\n",
       "    </tr>\n",
       "    <tr>\n",
       "      <td>mean</td>\n",
       "      <td>10.389845</td>\n",
       "      <td>0.272806</td>\n",
       "      <td>0.180723</td>\n",
       "      <td>38.572532</td>\n",
       "      <td>-93.587059</td>\n",
       "      <td>0.009780</td>\n",
       "      <td>0.080362</td>\n",
       "    </tr>\n",
       "    <tr>\n",
       "      <td>std</td>\n",
       "      <td>42.714609</td>\n",
       "      <td>2.331029</td>\n",
       "      <td>0.538003</td>\n",
       "      <td>5.648166</td>\n",
       "      <td>37.209191</td>\n",
       "      <td>0.066996</td>\n",
       "      <td>0.249630</td>\n",
       "    </tr>\n",
       "    <tr>\n",
       "      <td>min</td>\n",
       "      <td>0.000000</td>\n",
       "      <td>0.000000</td>\n",
       "      <td>0.000000</td>\n",
       "      <td>18.220800</td>\n",
       "      <td>-157.858400</td>\n",
       "      <td>0.000000</td>\n",
       "      <td>0.000000</td>\n",
       "    </tr>\n",
       "    <tr>\n",
       "      <td>25%</td>\n",
       "      <td>1.000000</td>\n",
       "      <td>0.000000</td>\n",
       "      <td>0.000000</td>\n",
       "      <td>35.443700</td>\n",
       "      <td>-118.760600</td>\n",
       "      <td>0.000000</td>\n",
       "      <td>0.000000</td>\n",
       "    </tr>\n",
       "    <tr>\n",
       "      <td>50%</td>\n",
       "      <td>2.000000</td>\n",
       "      <td>0.000000</td>\n",
       "      <td>0.000000</td>\n",
       "      <td>39.059800</td>\n",
       "      <td>-93.900200</td>\n",
       "      <td>0.000000</td>\n",
       "      <td>0.000000</td>\n",
       "    </tr>\n",
       "    <tr>\n",
       "      <td>75%</td>\n",
       "      <td>4.000000</td>\n",
       "      <td>0.000000</td>\n",
       "      <td>0.000000</td>\n",
       "      <td>42.165700</td>\n",
       "      <td>-79.025100</td>\n",
       "      <td>0.000000</td>\n",
       "      <td>0.000000</td>\n",
       "    </tr>\n",
       "    <tr>\n",
       "      <td>max</td>\n",
       "      <td>572.000000</td>\n",
       "      <td>37.000000</td>\n",
       "      <td>6.000000</td>\n",
       "      <td>61.370716</td>\n",
       "      <td>139.638000</td>\n",
       "      <td>1.000000</td>\n",
       "      <td>1.000000</td>\n",
       "    </tr>\n",
       "  </tbody>\n",
       "</table>\n",
       "</div>"
      ],
      "text/plain": [
       "         Confirmed       Deaths    Recovered    Latitude   Longitude  \\\n",
       "count  1162.000000  1162.000000  1162.000000  788.000000  788.000000   \n",
       "mean     10.389845     0.272806     0.180723   38.572532  -93.587059   \n",
       "std      42.714609     2.331029     0.538003    5.648166   37.209191   \n",
       "min       0.000000     0.000000     0.000000   18.220800 -157.858400   \n",
       "25%       1.000000     0.000000     0.000000   35.443700 -118.760600   \n",
       "50%       2.000000     0.000000     0.000000   39.059800  -93.900200   \n",
       "75%       4.000000     0.000000     0.000000   42.165700  -79.025100   \n",
       "max     572.000000    37.000000     6.000000   61.370716  139.638000   \n",
       "\n",
       "       fatality_rate  recovery_rate  \n",
       "count    1088.000000    1088.000000  \n",
       "mean        0.009780       0.080362  \n",
       "std         0.066996       0.249630  \n",
       "min         0.000000       0.000000  \n",
       "25%         0.000000       0.000000  \n",
       "50%         0.000000       0.000000  \n",
       "75%         0.000000       0.000000  \n",
       "max         1.000000       1.000000  "
      ]
     },
     "execution_count": 20,
     "metadata": {},
     "output_type": "execute_result"
    }
   ],
   "source": [
    "usdf.describe()"
   ]
  },
  {
   "cell_type": "code",
   "execution_count": 21,
   "metadata": {},
   "outputs": [
    {
     "data": {
      "image/png": "[encoded data removed]",
      "text/plain": [
       "<Figure size 1440x360 with 1 Axes>"
      ]
     },
     "metadata": {
      "needs_background": "light"
     },
     "output_type": "display_data"
    }
   ],
   "source": [
    "## set bin edge\n",
    "bin_edge = np.arange(usdf['Longitude'].min(),usdf['Latitude'].max()+5,5)\n",
    "## plot\n",
    "plt.figure(figsize =(20,5))\n",
    "## set y axis to x= 0\n",
    "plt.axes().spines['left'].set_position(('data',0))\n",
    "sns.distplot(usdf['Latitude'],bins =bin_edge,kde =False)\n",
    "sns.distplot(usdf['Longitude'], bins =bin_edge, kde= False)\n",
    "## set xticks\n",
    "tick = np.arange(-175,100, 25)\n",
    "plt.xticks(tick,tick)\n",
    "## set labels\n",
    "plt.xlabel('Longitude and Latitude')\n",
    "plt.ylabel('count')\n",
    "plt.title('Confirmed cases distribution geographically');"
   ]
  },
  {
   "cell_type": "markdown",
   "metadata": {},
   "source": [
    "> Make sure that, after every plot or related series of plots, that you\n",
    "include a Markdown cell with comments about what you observed, and what\n",
    "you plan on investigating next."
   ]
  },
  {
   "cell_type": "markdown",
   "metadata": {},
   "source": [
    "### Discuss the distribution(s) of your variable(s) of interest. Were there any unusual points? Did you need to perform any transformations?\n",
    "\n",
    "> Given the fact that this plot is based on frequencies of geographical values show up in the data set, we don’t expect any correlation or normal distribution show up in the plot but only to reflect the way COVID spread out on the geographical term. \n",
    "The plot shows the virus on record is between (-160, -65) in longitude and between(20,65) in latitude. In relate, Lat-long coorditates for cities in United States are in range: Latitude from 19.50139 to 64.85694 and longitude from -161.75583 to -68.01197. This match up what we have in the plot.\n",
    "\n",
    "### Of the features you investigated, were there any unusual distributions? Did you perform any operations on the data to tidy, adjust, or change the form of the data? If so, why did you do this?\n",
    "\n",
    "> More specific, there are two humps in the Longitude distribution plot, they reflect more cases on record on both coasts. Other the other hand, there is a significant high volume in the latitude plot which occurs around 40 to 45 latitude. This draws my attention to WA, Northern CA, OR and Northern east states around NY."
   ]
  },
  {
   "cell_type": "markdown",
   "metadata": {},
   "source": [
    "## Bivariate Exploration\n",
    "\n",
    "> In this section, investigate relationships between pairs of variables in your\n",
    "data. Make sure the variables that you cover here have been introduced in some\n",
    "fashion in the previous section (univariate exploration).\n",
    "\n",
    "###### accumulated numbers among states\n",
    "Bacause Confirmed,Deaths,Recovered are accumulative numbers, I decided to use the most up-to-date record, which is on Mar 14th to preseed following investigation."
   ]
  },
  {
   "cell_type": "code",
   "execution_count": 22,
   "metadata": {},
   "outputs": [],
   "source": [
    "## mask\n",
    "mask = usdf.query('Last_Update == \"03-14-2020\"')"
   ]
  },
  {
   "cell_type": "code",
   "execution_count": 23,
   "metadata": {},
   "outputs": [],
   "source": [
    "## set up iterables\n",
    "deathcols = ['Deaths','fatality_rate']\n",
    "recovercols= ['Recovered','recovery_rate']\n",
    "plotpos =[121,122]\n",
    "def statenum(colums):\n",
    "    plt.figure(figsize=(20,10))\n",
    "    ## sort values descending\n",
    "    if colums =='Confirmed':\n",
    "        statedesc = mask.groupby('Province_State')[colums].sum().sort_values(ascending= False)\n",
    "        sns.barplot(data=mask, x= statedesc.values,y = statedesc.index, color ='c')\n",
    "        plt.xlabel(colums)\n",
    "        plt.title('Total confirmed cases each state')\n",
    "    ## limit result returned by 10 with small recoreds size\n",
    "    else:\n",
    "        for colum, plotpo in zip(colums,plotpos):\n",
    "            plt.subplot(plotpo)\n",
    "            i = mask.groupby('Province_State')[colum].sum().sort_values(ascending= False)[:12]\n",
    "            sns.barplot(data=mask, y= i.values,x = i.index, color ='c')\n",
    "            plt.xticks(rotation =15)\n",
    "            plt.ylabel(colum)\n",
    "            plt.title('Top 12 {} states'.format(colum))"
   ]
  },
  {
   "cell_type": "code",
   "execution_count": 24,
   "metadata": {},
   "outputs": [
    {
     "data": {
      "image/png": "[encoded data removed]",
      "text/plain": [
       "<Figure size 1440x720 with 1 Axes>"
      ]
     },
     "metadata": {
      "needs_background": "light"
     },
     "output_type": "display_data"
    }
   ],
   "source": [
    "statenum('Confirmed')"
   ]
  },
  {
   "cell_type": "markdown",
   "metadata": {},
   "source": [
    "> This agree with my hypothesis: Northern east and Northern west states have the most cases reported. Top four significant states are WA, NY, CA and MA."
   ]
  },
  {
   "cell_type": "code",
   "execution_count": 25,
   "metadata": {},
   "outputs": [
    {
     "data": {
      "image/png": "[encoded data removed]",
      "text/plain": [
       "<Figure size 1440x720 with 2 Axes>"
      ]
     },
     "metadata": {
      "needs_background": "light"
     },
     "output_type": "display_data"
    }
   ],
   "source": [
    "statenum(deathcols)"
   ]
  },
  {
   "cell_type": "markdown",
   "metadata": {},
   "source": [
    "> total deaths show different results than fatality rate"
   ]
  },
  {
   "cell_type": "code",
   "execution_count": 26,
   "metadata": {},
   "outputs": [
    {
     "data": {
      "image/png": "[encoded data removed]",
      "text/plain": [
       "<Figure size 1440x720 with 2 Axes>"
      ]
     },
     "metadata": {
      "needs_background": "light"
     },
     "output_type": "display_data"
    }
   ],
   "source": [
    "statenum(recovercols)"
   ]
  },
  {
   "cell_type": "markdown",
   "metadata": {},
   "source": [
    "> total recoverying show different results than recovery rate"
   ]
  },
  {
   "cell_type": "markdown",
   "metadata": {},
   "source": [
    "###### Accumulate confirmed cases along time"
   ]
  },
  {
   "cell_type": "code",
   "execution_count": 27,
   "metadata": {},
   "outputs": [],
   "source": [
    "def timematric(matric):\n",
    "    plt.figure(figsize=(20,5))\n",
    "    usdata = usdf.groupby('Last_Update')[matric].sum()\n",
    "    sns.lineplot(data=usdf, x =usdata.index, y = usdata.values )\n",
    "    plt.title('Accumulate {} cases along time'.format(matric))"
   ]
  },
  {
   "cell_type": "code",
   "execution_count": 28,
   "metadata": {},
   "outputs": [
    {
     "name": "stderr",
     "output_type": "stream",
     "text": [
      "C:\\Users\\victo\\Anaconda3\\lib\\site-packages\\pandas\\plotting\\_matplotlib\\converter.py:103: FutureWarning: Using an implicitly registered datetime converter for a matplotlib plotting method. The converter was registered by pandas on import. Future versions of pandas will require you to explicitly register matplotlib converters.\n",
      "\n",
      "To register the converters:\n",
      "\t>>> from pandas.plotting import register_matplotlib_converters\n",
      "\t>>> register_matplotlib_converters()\n",
      "  warnings.warn(msg, FutureWarning)\n"
     ]
    },
    {
     "data": {
      "image/png": "[encoded data removed]",
      "text/plain": [
       "<Figure size 1440x360 with 1 Axes>"
      ]
     },
     "metadata": {
      "needs_background": "light"
     },
     "output_type": "display_data"
    }
   ],
   "source": [
    "timematric('Confirmed')"
   ]
  },
  {
   "cell_type": "markdown",
   "metadata": {},
   "source": [
    "### Talk about some of the relationships you observed in this part of the investigation. How did the feature(s) of interest vary with other features in the dataset?\n",
    "\n",
    "> From the confirmed cases number each state we can see top four significant states are WA, NY, CA and MA. This agree with my hypothesis: Northern east and Northern west states have the most cases reported. From the accumulate confirmed cases plot we can see a boost around March 1st.\n",
    "\n",
    "### Did you observe any interesting relationships between the other features (not the main feature(s) of interest)?\n",
    "\n",
    "> The total deaths/state and fatality rate as well as total recoveries/state and recovery rate are paired based on the same group of data but showing a different result. They also suggest slightly different messages, using ratios might be a better way to compare event/person by state."
   ]
  },
  {
   "cell_type": "markdown",
   "metadata": {},
   "source": [
    "## Multivariate Exploration\n",
    "\n",
    "> Create plots of three or more variables to investigate your data even\n",
    "further. Make sure that your investigations are justified, and follow from\n",
    "your work in the previous sections.\n",
    "\n",
    "###### Comparing COVID spread out speed within China and U.S."
   ]
  },
  {
   "cell_type": "code",
   "execution_count": 29,
   "metadata": {},
   "outputs": [],
   "source": [
    "## aggregate by conuntry then create multi index series\n",
    "countrydf = df.groupby(['Country_Region','Last_Update'])[['Confirmed','Deaths','Recovered']].sum()\n",
    "## reset index\n",
    "countrydf = countrydf.reset_index()"
   ]
  },
  {
   "cell_type": "code",
   "execution_count": 30,
   "metadata": {},
   "outputs": [
    {
     "data": {
      "text/html": [
       "<div>\n",
       "<style scoped>\n",
       "    .dataframe tbody tr th:only-of-type {\n",
       "        vertical-align: middle;\n",
       "    }\n",
       "\n",
       "    .dataframe tbody tr th {\n",
       "        vertical-align: top;\n",
       "    }\n",
       "\n",
       "    .dataframe thead th {\n",
       "        text-align: right;\n",
       "    }\n",
       "</style>\n",
       "<table border=\"1\" class=\"dataframe\">\n",
       "  <thead>\n",
       "    <tr style=\"text-align: right;\">\n",
       "      <th></th>\n",
       "      <th>Country_Region</th>\n",
       "      <th>Last_Update</th>\n",
       "      <th>Confirmed</th>\n",
       "      <th>Deaths</th>\n",
       "      <th>Recovered</th>\n",
       "    </tr>\n",
       "  </thead>\n",
       "  <tbody>\n",
       "    <tr>\n",
       "      <td>0</td>\n",
       "      <td>China</td>\n",
       "      <td>2020-01-22</td>\n",
       "      <td>547</td>\n",
       "      <td>17</td>\n",
       "      <td>28</td>\n",
       "    </tr>\n",
       "    <tr>\n",
       "      <td>1</td>\n",
       "      <td>China</td>\n",
       "      <td>2020-01-23</td>\n",
       "      <td>639</td>\n",
       "      <td>18</td>\n",
       "      <td>30</td>\n",
       "    </tr>\n",
       "    <tr>\n",
       "      <td>2</td>\n",
       "      <td>China</td>\n",
       "      <td>2020-01-24</td>\n",
       "      <td>916</td>\n",
       "      <td>26</td>\n",
       "      <td>36</td>\n",
       "    </tr>\n",
       "    <tr>\n",
       "      <td>3</td>\n",
       "      <td>China</td>\n",
       "      <td>2020-01-25</td>\n",
       "      <td>1399</td>\n",
       "      <td>42</td>\n",
       "      <td>39</td>\n",
       "    </tr>\n",
       "    <tr>\n",
       "      <td>4</td>\n",
       "      <td>China</td>\n",
       "      <td>2020-01-26</td>\n",
       "      <td>2062</td>\n",
       "      <td>56</td>\n",
       "      <td>49</td>\n",
       "    </tr>\n",
       "    <tr>\n",
       "      <td>...</td>\n",
       "      <td>...</td>\n",
       "      <td>...</td>\n",
       "      <td>...</td>\n",
       "      <td>...</td>\n",
       "      <td>...</td>\n",
       "    </tr>\n",
       "    <tr>\n",
       "      <td>101</td>\n",
       "      <td>US</td>\n",
       "      <td>2020-03-10</td>\n",
       "      <td>959</td>\n",
       "      <td>28</td>\n",
       "      <td>8</td>\n",
       "    </tr>\n",
       "    <tr>\n",
       "      <td>102</td>\n",
       "      <td>US</td>\n",
       "      <td>2020-03-11</td>\n",
       "      <td>1281</td>\n",
       "      <td>36</td>\n",
       "      <td>8</td>\n",
       "    </tr>\n",
       "    <tr>\n",
       "      <td>103</td>\n",
       "      <td>US</td>\n",
       "      <td>2020-03-12</td>\n",
       "      <td>1663</td>\n",
       "      <td>40</td>\n",
       "      <td>12</td>\n",
       "    </tr>\n",
       "    <tr>\n",
       "      <td>104</td>\n",
       "      <td>US</td>\n",
       "      <td>2020-03-13</td>\n",
       "      <td>2179</td>\n",
       "      <td>47</td>\n",
       "      <td>12</td>\n",
       "    </tr>\n",
       "    <tr>\n",
       "      <td>105</td>\n",
       "      <td>US</td>\n",
       "      <td>2020-03-14</td>\n",
       "      <td>2726</td>\n",
       "      <td>54</td>\n",
       "      <td>12</td>\n",
       "    </tr>\n",
       "  </tbody>\n",
       "</table>\n",
       "<p>106 rows × 5 columns</p>\n",
       "</div>"
      ],
      "text/plain": [
       "    Country_Region Last_Update  Confirmed  Deaths  Recovered\n",
       "0            China  2020-01-22        547      17         28\n",
       "1            China  2020-01-23        639      18         30\n",
       "2            China  2020-01-24        916      26         36\n",
       "3            China  2020-01-25       1399      42         39\n",
       "4            China  2020-01-26       2062      56         49\n",
       "..             ...         ...        ...     ...        ...\n",
       "101             US  2020-03-10        959      28          8\n",
       "102             US  2020-03-11       1281      36          8\n",
       "103             US  2020-03-12       1663      40         12\n",
       "104             US  2020-03-13       2179      47         12\n",
       "105             US  2020-03-14       2726      54         12\n",
       "\n",
       "[106 rows x 5 columns]"
      ]
     },
     "execution_count": 30,
     "metadata": {},
     "output_type": "execute_result"
    }
   ],
   "source": [
    "## test\n",
    "countrydf"
   ]
  },
  {
   "cell_type": "code",
   "execution_count": 31,
   "metadata": {},
   "outputs": [],
   "source": [
    "## function for compute logarithm and antilogarithm\n",
    "def logtrans(x, inverse= False):\n",
    "    if not inverse:\n",
    "        return np.log10(x)\n",
    "    else:\n",
    "        return 10 ** x"
   ]
  },
  {
   "cell_type": "code",
   "execution_count": 32,
   "metadata": {},
   "outputs": [
    {
     "data": {
      "image/png": "[encoded data removed]",
      "text/plain": [
       "<Figure size 720x360 with 1 Axes>"
      ]
     },
     "metadata": {
      "needs_background": "light"
     },
     "output_type": "display_data"
    }
   ],
   "source": [
    "## transform y scale to log10 in order \n",
    "## to counter big population difference\n",
    "plt.figure(figsize=(10,5))\n",
    "plt.yscale('log')\n",
    "sns.lineplot(data=countrydf, x ='Last_Update', y = 'Confirmed',hue= 'Country_Region' )\n",
    "tick = [1,2,5,10,20,50,100,200,500,1000,2000,5000,10000,20000,50000]\n",
    "plt.yticks(tick,tick)\n",
    "plt.legend(loc =0)\n",
    "plt.title('Accumulate confirmed cases along time in China and U.S.');"
   ]
  },
  {
   "cell_type": "markdown",
   "metadata": {},
   "source": [
    "> Here we have a plot showing accumulate confirmed cases along time between China and U.S.. There is a worrisome trend, from Jan 22nd the first COVID-19 case was observed in the U.S. it has been slowly spreading out unilt Fed 22nd a big population was infected and it started to spread out fast, giving the same frame of time the virus is spreading faster in the U.S. than in China at this moment.\n",
    "\n",
    "###### Total Recovered and total Deaths between two countries"
   ]
  },
  {
   "cell_type": "code",
   "execution_count": 33,
   "metadata": {},
   "outputs": [
    {
     "data": {
      "image/png": "[encoded data removed]",
      "text/plain": [
       "<Figure size 720x360 with 1 Axes>"
      ]
     },
     "metadata": {
      "needs_background": "light"
     },
     "output_type": "display_data"
    }
   ],
   "source": [
    "plt.figure(figsize=(10,5))\n",
    "## perform log transformation\n",
    "sns.scatterplot(data= countrydf,y= countrydf['Recovered'].apply(logtrans),\n",
    "                x =countrydf['Deaths'].apply(logtrans), hue= 'Country_Region')\n",
    "## get x,t ticks locations and labels\n",
    "xlocs, xlabels= plt.xticks()\n",
    "ylocs, ylabels= plt.yticks()\n",
    "## transform labels\n",
    "xlabels = logtrans(xlocs, inverse= True).astype(int)\n",
    "ylabels = logtrans(ylocs, inverse= True).astype(int)\n",
    "plt.xticks(xlocs, xlabels)\n",
    "plt.yticks(ylocs, ylabels)\n",
    "plt.legend(loc= 0)\n",
    "plt.title('Total Recovered and total Deaths between two countries');"
   ]
  },
  {
   "cell_type": "markdown",
   "metadata": {},
   "source": [
    "> Scatter plot show a relationship between total Recovered and total Deaths within two countries. This make sense because more recovered reflect more cases confirmed which will lead to more deaths. What we want to see is a steep slop along those spots, the steeper slop is the more people recovered than died. In this case, China shows a more comforting result.\n",
    "\n",
    "###### Average ratio comparisons"
   ]
  },
  {
   "cell_type": "code",
   "execution_count": 34,
   "metadata": {
    "scrolled": false
   },
   "outputs": [
    {
     "data": {
      "text/html": [
       "<div>\n",
       "<style scoped>\n",
       "    .dataframe tbody tr th:only-of-type {\n",
       "        vertical-align: middle;\n",
       "    }\n",
       "\n",
       "    .dataframe tbody tr th {\n",
       "        vertical-align: top;\n",
       "    }\n",
       "\n",
       "    .dataframe thead th {\n",
       "        text-align: right;\n",
       "    }\n",
       "</style>\n",
       "<table border=\"1\" class=\"dataframe\">\n",
       "  <thead>\n",
       "    <tr style=\"text-align: right;\">\n",
       "      <th></th>\n",
       "      <th>Country_Region</th>\n",
       "      <th>Last_Update</th>\n",
       "      <th>Confirmed</th>\n",
       "      <th>Deaths</th>\n",
       "      <th>Recovered</th>\n",
       "      <th>fatality_rate</th>\n",
       "      <th>recovery_rate</th>\n",
       "    </tr>\n",
       "  </thead>\n",
       "  <tbody>\n",
       "    <tr>\n",
       "      <td>0</td>\n",
       "      <td>China</td>\n",
       "      <td>2020-01-22</td>\n",
       "      <td>547</td>\n",
       "      <td>17</td>\n",
       "      <td>28</td>\n",
       "      <td>0.031079</td>\n",
       "      <td>0.051188</td>\n",
       "    </tr>\n",
       "    <tr>\n",
       "      <td>1</td>\n",
       "      <td>China</td>\n",
       "      <td>2020-01-23</td>\n",
       "      <td>639</td>\n",
       "      <td>18</td>\n",
       "      <td>30</td>\n",
       "      <td>0.028169</td>\n",
       "      <td>0.046948</td>\n",
       "    </tr>\n",
       "    <tr>\n",
       "      <td>2</td>\n",
       "      <td>China</td>\n",
       "      <td>2020-01-24</td>\n",
       "      <td>916</td>\n",
       "      <td>26</td>\n",
       "      <td>36</td>\n",
       "      <td>0.028384</td>\n",
       "      <td>0.039301</td>\n",
       "    </tr>\n",
       "    <tr>\n",
       "      <td>3</td>\n",
       "      <td>China</td>\n",
       "      <td>2020-01-25</td>\n",
       "      <td>1399</td>\n",
       "      <td>42</td>\n",
       "      <td>39</td>\n",
       "      <td>0.030021</td>\n",
       "      <td>0.027877</td>\n",
       "    </tr>\n",
       "    <tr>\n",
       "      <td>4</td>\n",
       "      <td>China</td>\n",
       "      <td>2020-01-26</td>\n",
       "      <td>2062</td>\n",
       "      <td>56</td>\n",
       "      <td>49</td>\n",
       "      <td>0.027158</td>\n",
       "      <td>0.023763</td>\n",
       "    </tr>\n",
       "    <tr>\n",
       "      <td>...</td>\n",
       "      <td>...</td>\n",
       "      <td>...</td>\n",
       "      <td>...</td>\n",
       "      <td>...</td>\n",
       "      <td>...</td>\n",
       "      <td>...</td>\n",
       "      <td>...</td>\n",
       "    </tr>\n",
       "    <tr>\n",
       "      <td>101</td>\n",
       "      <td>US</td>\n",
       "      <td>2020-03-10</td>\n",
       "      <td>959</td>\n",
       "      <td>28</td>\n",
       "      <td>8</td>\n",
       "      <td>0.029197</td>\n",
       "      <td>0.008342</td>\n",
       "    </tr>\n",
       "    <tr>\n",
       "      <td>102</td>\n",
       "      <td>US</td>\n",
       "      <td>2020-03-11</td>\n",
       "      <td>1281</td>\n",
       "      <td>36</td>\n",
       "      <td>8</td>\n",
       "      <td>0.028103</td>\n",
       "      <td>0.006245</td>\n",
       "    </tr>\n",
       "    <tr>\n",
       "      <td>103</td>\n",
       "      <td>US</td>\n",
       "      <td>2020-03-12</td>\n",
       "      <td>1663</td>\n",
       "      <td>40</td>\n",
       "      <td>12</td>\n",
       "      <td>0.024053</td>\n",
       "      <td>0.007216</td>\n",
       "    </tr>\n",
       "    <tr>\n",
       "      <td>104</td>\n",
       "      <td>US</td>\n",
       "      <td>2020-03-13</td>\n",
       "      <td>2179</td>\n",
       "      <td>47</td>\n",
       "      <td>12</td>\n",
       "      <td>0.021570</td>\n",
       "      <td>0.005507</td>\n",
       "    </tr>\n",
       "    <tr>\n",
       "      <td>105</td>\n",
       "      <td>US</td>\n",
       "      <td>2020-03-14</td>\n",
       "      <td>2726</td>\n",
       "      <td>54</td>\n",
       "      <td>12</td>\n",
       "      <td>0.019809</td>\n",
       "      <td>0.004402</td>\n",
       "    </tr>\n",
       "  </tbody>\n",
       "</table>\n",
       "<p>106 rows × 7 columns</p>\n",
       "</div>"
      ],
      "text/plain": [
       "    Country_Region Last_Update  Confirmed  Deaths  Recovered  fatality_rate  \\\n",
       "0            China  2020-01-22        547      17         28       0.031079   \n",
       "1            China  2020-01-23        639      18         30       0.028169   \n",
       "2            China  2020-01-24        916      26         36       0.028384   \n",
       "3            China  2020-01-25       1399      42         39       0.030021   \n",
       "4            China  2020-01-26       2062      56         49       0.027158   \n",
       "..             ...         ...        ...     ...        ...            ...   \n",
       "101             US  2020-03-10        959      28          8       0.029197   \n",
       "102             US  2020-03-11       1281      36          8       0.028103   \n",
       "103             US  2020-03-12       1663      40         12       0.024053   \n",
       "104             US  2020-03-13       2179      47         12       0.021570   \n",
       "105             US  2020-03-14       2726      54         12       0.019809   \n",
       "\n",
       "     recovery_rate  \n",
       "0         0.051188  \n",
       "1         0.046948  \n",
       "2         0.039301  \n",
       "3         0.027877  \n",
       "4         0.023763  \n",
       "..             ...  \n",
       "101       0.008342  \n",
       "102       0.006245  \n",
       "103       0.007216  \n",
       "104       0.005507  \n",
       "105       0.004402  \n",
       "\n",
       "[106 rows x 7 columns]"
      ]
     },
     "execution_count": 34,
     "metadata": {},
     "output_type": "execute_result"
    }
   ],
   "source": [
    "## Add fatality rate and recovery rate\n",
    "countrydf['fatality_rate'] = countrydf['Deaths']/countrydf['Confirmed']\n",
    "countrydf['recovery_rate'] = countrydf['Recovered']/countrydf['Confirmed']\n",
    "countrydf"
   ]
  },
  {
   "cell_type": "code",
   "execution_count": 35,
   "metadata": {},
   "outputs": [
    {
     "data": {
      "text/html": [
       "<div>\n",
       "<style scoped>\n",
       "    .dataframe tbody tr th:only-of-type {\n",
       "        vertical-align: middle;\n",
       "    }\n",
       "\n",
       "    .dataframe tbody tr th {\n",
       "        vertical-align: top;\n",
       "    }\n",
       "\n",
       "    .dataframe thead th {\n",
       "        text-align: right;\n",
       "    }\n",
       "</style>\n",
       "<table border=\"1\" class=\"dataframe\">\n",
       "  <thead>\n",
       "    <tr style=\"text-align: right;\">\n",
       "      <th></th>\n",
       "      <th>Country_Region</th>\n",
       "      <th>Last_Update</th>\n",
       "      <th>Confirmed</th>\n",
       "      <th>Deaths</th>\n",
       "      <th>Recovered</th>\n",
       "      <th>fatality_rate</th>\n",
       "      <th>recovery_rate</th>\n",
       "    </tr>\n",
       "  </thead>\n",
       "  <tbody>\n",
       "    <tr>\n",
       "      <td>52</td>\n",
       "      <td>China</td>\n",
       "      <td>2020-03-14</td>\n",
       "      <td>80977</td>\n",
       "      <td>3193</td>\n",
       "      <td>65660</td>\n",
       "      <td>0.039431</td>\n",
       "      <td>0.810848</td>\n",
       "    </tr>\n",
       "    <tr>\n",
       "      <td>105</td>\n",
       "      <td>US</td>\n",
       "      <td>2020-03-14</td>\n",
       "      <td>2726</td>\n",
       "      <td>54</td>\n",
       "      <td>12</td>\n",
       "      <td>0.019809</td>\n",
       "      <td>0.004402</td>\n",
       "    </tr>\n",
       "  </tbody>\n",
       "</table>\n",
       "</div>"
      ],
      "text/plain": [
       "    Country_Region Last_Update  Confirmed  Deaths  Recovered  fatality_rate  \\\n",
       "52           China  2020-03-14      80977    3193      65660       0.039431   \n",
       "105             US  2020-03-14       2726      54         12       0.019809   \n",
       "\n",
       "     recovery_rate  \n",
       "52        0.810848  \n",
       "105       0.004402  "
      ]
     },
     "execution_count": 35,
     "metadata": {},
     "output_type": "execute_result"
    }
   ],
   "source": [
    "uptodate = countrydf.query('Last_Update==\"2020-03-14\"')\n",
    "uptodate"
   ]
  },
  {
   "cell_type": "code",
   "execution_count": 36,
   "metadata": {},
   "outputs": [
    {
     "data": {
      "image/png": "[encoded data removed]",
      "text/plain": [
       "<Figure size 1440x360 with 2 Axes>"
      ]
     },
     "metadata": {
      "needs_background": "light"
     },
     "output_type": "display_data"
    }
   ],
   "source": [
    "indexes = [121, 122]\n",
    "columnames =['recovery_rate','fatality_rate']\n",
    "plt.figure(figsize=(20,5))\n",
    "for index, columname in zip(indexes,columnames):\n",
    "    plt.subplot(index)\n",
    "    sns.pointplot(data = uptodate, x = 'Country_Region', y= columname,color ='r',join =False,edgecolors=\"white\")\n",
    "    sns.barplot(data= countrydf, x= 'Country_Region', y= columname, ci= False, alpha = 0.6)\n",
    "    ## use red dot to indicate most recent rates\n",
    "    plt.ylabel('average {}'.format(columname))\n",
    "    plt.title('average {} between China and U.S.'.format(columname));"
   ]
  },
  {
   "cell_type": "markdown",
   "metadata": {},
   "source": [
    "> Plots above compare average recovery rate as well as average fatality rate between two contries. Fortunately both counrties showing a higher average recovery rate than average fatality rate. Red dots represent rates on Mar 15th respectively."
   ]
  },
  {
   "cell_type": "markdown",
   "metadata": {},
   "source": [
    "### Talk about some of the relationships you observed in this part of the investigation. Were there features that strengthened each other in terms of looking at your feature(s) of interest?\n",
    "\n",
    "> \"Total Recovered and total Deaths between two contries\" plot show a relationship between total Recovered and total Deaths within two countries. This make sense because more recovered reflect more cases confirmed which will lead to more deaths. What we want to see is a steep slop along those spots, the steeper slop is the more people recovered than died. In this case, China shows a more comforting result.\n",
    "### Were there any interesting or surprising interactions between features?\n",
    "\n",
    "> \"Accumulate confirmed cases along time in China and U.S.\" shows a worrisome trend, from Jan 22nd the first COVID-19 case was observed in the U.S. it has been slowly spreading out unilt Fed 22nd a big population was infected and it started to spread out fast, giving the same frame of time the virus is spreading faster in the U.S. than in China at this moment."
   ]
  },
  {
   "cell_type": "markdown",
   "metadata": {},
   "source": [
    "## A rough forecast"
   ]
  },
  {
   "cell_type": "code",
   "execution_count": 37,
   "metadata": {},
   "outputs": [
    {
     "data": {
      "text/html": [
       "<div>\n",
       "<style scoped>\n",
       "    .dataframe tbody tr th:only-of-type {\n",
       "        vertical-align: middle;\n",
       "    }\n",
       "\n",
       "    .dataframe tbody tr th {\n",
       "        vertical-align: top;\n",
       "    }\n",
       "\n",
       "    .dataframe thead th {\n",
       "        text-align: right;\n",
       "    }\n",
       "</style>\n",
       "<table border=\"1\" class=\"dataframe\">\n",
       "  <thead>\n",
       "    <tr style=\"text-align: right;\">\n",
       "      <th></th>\n",
       "      <th>Country_Region</th>\n",
       "      <th>Last_Update</th>\n",
       "      <th>Confirmed</th>\n",
       "      <th>Deaths</th>\n",
       "      <th>Recovered</th>\n",
       "      <th>fatality_rate</th>\n",
       "      <th>recovery_rate</th>\n",
       "    </tr>\n",
       "  </thead>\n",
       "  <tbody>\n",
       "    <tr>\n",
       "      <td>101</td>\n",
       "      <td>US</td>\n",
       "      <td>2020-03-10</td>\n",
       "      <td>959</td>\n",
       "      <td>28</td>\n",
       "      <td>8</td>\n",
       "      <td>0.029197</td>\n",
       "      <td>0.008342</td>\n",
       "    </tr>\n",
       "    <tr>\n",
       "      <td>102</td>\n",
       "      <td>US</td>\n",
       "      <td>2020-03-11</td>\n",
       "      <td>1281</td>\n",
       "      <td>36</td>\n",
       "      <td>8</td>\n",
       "      <td>0.028103</td>\n",
       "      <td>0.006245</td>\n",
       "    </tr>\n",
       "    <tr>\n",
       "      <td>103</td>\n",
       "      <td>US</td>\n",
       "      <td>2020-03-12</td>\n",
       "      <td>1663</td>\n",
       "      <td>40</td>\n",
       "      <td>12</td>\n",
       "      <td>0.024053</td>\n",
       "      <td>0.007216</td>\n",
       "    </tr>\n",
       "    <tr>\n",
       "      <td>104</td>\n",
       "      <td>US</td>\n",
       "      <td>2020-03-13</td>\n",
       "      <td>2179</td>\n",
       "      <td>47</td>\n",
       "      <td>12</td>\n",
       "      <td>0.021570</td>\n",
       "      <td>0.005507</td>\n",
       "    </tr>\n",
       "    <tr>\n",
       "      <td>105</td>\n",
       "      <td>US</td>\n",
       "      <td>2020-03-14</td>\n",
       "      <td>2726</td>\n",
       "      <td>54</td>\n",
       "      <td>12</td>\n",
       "      <td>0.019809</td>\n",
       "      <td>0.004402</td>\n",
       "    </tr>\n",
       "  </tbody>\n",
       "</table>\n",
       "</div>"
      ],
      "text/plain": [
       "    Country_Region Last_Update  Confirmed  Deaths  Recovered  fatality_rate  \\\n",
       "101             US  2020-03-10        959      28          8       0.029197   \n",
       "102             US  2020-03-11       1281      36          8       0.028103   \n",
       "103             US  2020-03-12       1663      40         12       0.024053   \n",
       "104             US  2020-03-13       2179      47         12       0.021570   \n",
       "105             US  2020-03-14       2726      54         12       0.019809   \n",
       "\n",
       "     recovery_rate  \n",
       "101       0.008342  \n",
       "102       0.006245  \n",
       "103       0.007216  \n",
       "104       0.005507  \n",
       "105       0.004402  "
      ]
     },
     "execution_count": 37,
     "metadata": {},
     "output_type": "execute_result"
    }
   ],
   "source": [
    "dummydf = countrydf.query('Country_Region==\"US\"')\n",
    "dummydf.tail()"
   ]
  },
  {
   "cell_type": "code",
   "execution_count": 38,
   "metadata": {},
   "outputs": [],
   "source": [
    "## function for obtain dates from Jan 22nd\n",
    "def get_date_list(target_month = 3):\n",
    "    month_day = [0, 31, 29, 31, 30, 31, 30, 31, 31, 30, 31, 30, 31]\n",
    "    cur_month, cur_day = 1, 22\n",
    "    ans = []\n",
    "    while cur_month <= target_month:\n",
    "        while cur_day <= month_day[cur_month]:\n",
    "            d = \"0\" + str(cur_day) if cur_day < 10 else str(cur_day)\n",
    "            ans += [str(cur_month) + \"/\" + d]\n",
    "            cur_day += 1\n",
    "        cur_day = 1\n",
    "        cur_month += 1\n",
    "    return ans"
   ]
  },
  {
   "cell_type": "code",
   "execution_count": 39,
   "metadata": {},
   "outputs": [],
   "source": [
    "## logistic function model\n",
    "def logistic_function(t, K, P0, r):\n",
    "    t0 = 0\n",
    "    exp = np.exp(r * (t - t0))\n",
    "    return (K * exp * P0) / (K + (exp - 1) * P0)"
   ]
  },
  {
   "cell_type": "code",
   "execution_count": 40,
   "metadata": {},
   "outputs": [],
   "source": [
    "## main function body\n",
    "def predict(dayfram):\n",
    "    ## how many days to predicte from Jan 22nd\n",
    "    ## aka dayfram\n",
    "    predict_days = dayfram\n",
    "    \n",
    "    date, confirm = dummydf['Last_Update'].values, dummydf['Confirmed'].values\n",
    "    x = np.arange(len(confirm))\n",
    "    date_labels = get_date_list(4)\n",
    "\n",
    "    ## convert least sqrt\n",
    "    popt, pcov = curve_fit(logistic_function, x, confirm)\n",
    "    print(popt)\n",
    "     \n",
    "    predict_x = list(x) + [x[-1] + i for i in range(1, 1 + predict_days)]\n",
    "    predict_x = np.array(predict_x)\n",
    "    predict_y = logistic_function(predict_x, popt[0], popt[1], popt[2])\n",
    "    \n",
    "    ## plot\n",
    "    plt.figure(figsize=(20, 10))\n",
    "    plt.plot(predict_x, predict_y, 's',label=\"predicted infected number\")\n",
    "    plt.plot(x, confirm, 'o',label=\"confimed infected number\")\n",
    "    plt.xticks(predict_x, date_labels[:len(predict_x) + 1], rotation=90)\n",
    "       \n",
    "    plt.suptitle(\"Logistic Fitting Curve for COVID-19 infected numbers(Max infections: {},  r:{:.3})\".format(int(popt[0]), popt[2]), fontsize=16, fontweight=\"bold\")\n",
    "    plt.title(\"Predict time:{}\".format(time.strftime(\"%Y-%m-%d\", time.localtime())), fontsize=16)\n",
    "    plt.xlabel('date', fontsize=14)\n",
    "    plt.ylabel('infected number', fontsize=14)\n",
    "    plt.legend(loc= 0)"
   ]
  },
  {
   "cell_type": "code",
   "execution_count": 41,
   "metadata": {
    "scrolled": false
   },
   "outputs": [
    {
     "name": "stdout",
     "output_type": "stream",
     "text": [
      "[1.19983860e+04 3.58297823e-04 3.09863514e-01]\n"
     ]
    },
    {
     "data": {
      "image/png": "[encoded data removed]",
      "text/plain": [
       "<Figure size 1440x720 with 1 Axes>"
      ]
     },
     "metadata": {
      "needs_background": "light"
     },
     "output_type": "display_data"
    }
   ],
   "source": [
    "## call function \n",
    "predict(30)"
   ]
  },
  {
   "cell_type": "markdown",
   "metadata": {},
   "source": [
    "> Above is a prediction model using logistic growth algorithm. In the title, max infections represent predicited maximum total confirmed cases, r is the per capita rate of increase, the greater r is the faster to reach the peak point. As the model shows, max confirmed cases would likely be around 11998, which will happen around April 6th. This model has very limited perspective, dataset is not large enough to train the model at this point(represented by orange dots), also it has not yet take other elements into consideration, eg SEIR model, SIRS model, susceptible and infective mobility, medical break though and many more."
   ]
  },
  {
   "cell_type": "markdown",
   "metadata": {},
   "source": [
    "> At the end of your report, make sure that you export the notebook as an\n",
    "html file from the `File > Download as... > HTML` menu. Make sure you keep\n",
    "track of where the exported file goes, so you can put it in the same folder\n",
    "as this notebook for project submission. Also, make sure you remove all of\n",
    "the quote-formatted guide notes like this one before you finish your report!"
   ]
  }
 ],
 "metadata": {
  "kernelspec": {
   "display_name": "Python 3",
   "language": "python",
   "name": "python3"
  },
  "language_info": {
   "codemirror_mode": {
    "name": "ipython",
    "version": 3
   },
   "file_extension": ".py",
   "mimetype": "text/x-python",
   "name": "python",
   "nbconvert_exporter": "python",
   "pygments_lexer": "ipython3",
   "version": "3.7.4"
  }
 },
 "nbformat": 4,
 "nbformat_minor": 2
}
